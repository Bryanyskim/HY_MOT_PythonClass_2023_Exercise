{
  "nbformat": 4,
  "nbformat_minor": 0,
  "metadata": {
    "colab": {
      "provenance": [],
      "authorship_tag": "ABX9TyMHKsrrQZ0uUqz1bRTF1OGU",
      "include_colab_link": true
    },
    "kernelspec": {
      "name": "python3",
      "display_name": "Python 3"
    },
    "language_info": {
      "name": "python"
    }
  },
  "cells": [
    {
      "cell_type": "markdown",
      "metadata": {
        "id": "view-in-github",
        "colab_type": "text"
      },
      "source": [
        "<a href=\"https://colab.research.google.com/github/Bryanyskim/HY_MOT_PythonClass_2023_Exercise/blob/main/Exercise_8_(Read)_%EA%B9%80%EC%98%88%EC%84%B1_2022242617.ipynb\" target=\"_parent\"><img src=\"https://colab.research.google.com/assets/colab-badge.svg\" alt=\"Open In Colab\"/></a>"
      ]
    },
    {
      "cell_type": "code",
      "execution_count": 1,
      "metadata": {
        "colab": {
          "base_uri": "https://localhost:8080/"
        },
        "id": "PCUxf7Wp1VV_",
        "outputId": "c0aff5c4-29a0-4ac8-818d-41423f601708"
      },
      "outputs": [
        {
          "output_type": "stream",
          "name": "stdout",
          "text": [
            "Mounted at /content/gdrive\n"
          ]
        }
      ],
      "source": [
        "from google.colab import drive\n",
        "drive.mount('/content/gdrive')"
      ]
    },
    {
      "cell_type": "code",
      "source": [
        "example1 = \"/content/gdrive/My Drive/Colab Notebooks/example1.txt\"\n",
        "file1 = open(example1, \"r\")"
      ],
      "metadata": {
        "id": "q-JrjRQF2KSc"
      },
      "execution_count": 2,
      "outputs": []
    },
    {
      "cell_type": "code",
      "source": [
        "file1.name"
      ],
      "metadata": {
        "colab": {
          "base_uri": "https://localhost:8080/",
          "height": 36
        },
        "id": "8fQ8kXPb2gDV",
        "outputId": "2d6555b5-6873-4e01-cfe8-2e182f6bde91"
      },
      "execution_count": 3,
      "outputs": [
        {
          "output_type": "execute_result",
          "data": {
            "text/plain": [
              "'/content/gdrive/My Drive/Colab Notebooks/example1.txt'"
            ],
            "application/vnd.google.colaboratory.intrinsic+json": {
              "type": "string"
            }
          },
          "metadata": {},
          "execution_count": 3
        }
      ]
    },
    {
      "cell_type": "code",
      "source": [
        "file1.mode"
      ],
      "metadata": {
        "colab": {
          "base_uri": "https://localhost:8080/",
          "height": 36
        },
        "id": "OI0KZMPN29dg",
        "outputId": "c505f5da-04b5-4e04-b874-882f7f7c7172"
      },
      "execution_count": 4,
      "outputs": [
        {
          "output_type": "execute_result",
          "data": {
            "text/plain": [
              "'r'"
            ],
            "application/vnd.google.colaboratory.intrinsic+json": {
              "type": "string"
            }
          },
          "metadata": {},
          "execution_count": 4
        }
      ]
    },
    {
      "cell_type": "code",
      "source": [
        "FileContent = file1.read()\n",
        "FileContent"
      ],
      "metadata": {
        "colab": {
          "base_uri": "https://localhost:8080/",
          "height": 54
        },
        "id": "ahdQdhBu2_4Q",
        "outputId": "a8114703-2488-4e89-9e7f-6e03bd86e635"
      },
      "execution_count": 6,
      "outputs": [
        {
          "output_type": "execute_result",
          "data": {
            "text/plain": [
              "'\\n죽는 날까지 하늘을 우르러\\n한점 부끄럼이 없기를、\\n잎새에 이는 바람에도\\n나는 괴로워했다。\\n별을 노래하는 마음으로\\n모든 죽어가는것을 사랑해야지\\n그리고 나안테 주어진 길을\\n거러가야겠다。\\n\\n오늘밤에도 별이 바람에 스치운다。\\n\\n\\n1941. 11. 20'"
            ],
            "application/vnd.google.colaboratory.intrinsic+json": {
              "type": "string"
            }
          },
          "metadata": {},
          "execution_count": 6
        }
      ]
    },
    {
      "cell_type": "code",
      "source": [
        "print(FileContent)"
      ],
      "metadata": {
        "colab": {
          "base_uri": "https://localhost:8080/"
        },
        "id": "dy__-u0D3GKK",
        "outputId": "0f18298e-c856-49d8-c75d-0b3694940288"
      },
      "execution_count": 7,
      "outputs": [
        {
          "output_type": "stream",
          "name": "stdout",
          "text": [
            "\n",
            "죽는 날까지 하늘을 우르러\n",
            "한점 부끄럼이 없기를、\n",
            "잎새에 이는 바람에도\n",
            "나는 괴로워했다。\n",
            "별을 노래하는 마음으로\n",
            "모든 죽어가는것을 사랑해야지\n",
            "그리고 나안테 주어진 길을\n",
            "거러가야겠다。\n",
            "\n",
            "오늘밤에도 별이 바람에 스치운다。\n",
            "\n",
            "\n",
            "1941. 11. 20\n"
          ]
        }
      ]
    },
    {
      "cell_type": "code",
      "source": [
        "type(FileContent)"
      ],
      "metadata": {
        "colab": {
          "base_uri": "https://localhost:8080/"
        },
        "id": "qR3a9wnk3Q1y",
        "outputId": "c6ef2a0b-7f4a-4091-d96f-01a69b2c1b2a"
      },
      "execution_count": 8,
      "outputs": [
        {
          "output_type": "execute_result",
          "data": {
            "text/plain": [
              "str"
            ]
          },
          "metadata": {},
          "execution_count": 8
        }
      ]
    },
    {
      "cell_type": "code",
      "source": [
        "file1.close()"
      ],
      "metadata": {
        "id": "-IeCEyJA3U15"
      },
      "execution_count": 10,
      "outputs": []
    },
    {
      "cell_type": "code",
      "source": [
        "with open(example1, \"r\") as file1:\n",
        "    FileContent = file1.read()\n",
        "    print(FileContent)"
      ],
      "metadata": {
        "colab": {
          "base_uri": "https://localhost:8080/"
        },
        "id": "r6nGnWi83W6f",
        "outputId": "ad86d885-d05e-4325-920c-24b511351053"
      },
      "execution_count": 11,
      "outputs": [
        {
          "output_type": "stream",
          "name": "stdout",
          "text": [
            "\n",
            "죽는 날까지 하늘을 우르러\n",
            "한점 부끄럼이 없기를、\n",
            "잎새에 이는 바람에도\n",
            "나는 괴로워했다。\n",
            "별을 노래하는 마음으로\n",
            "모든 죽어가는것을 사랑해야지\n",
            "그리고 나안테 주어진 길을\n",
            "거러가야겠다。\n",
            "\n",
            "오늘밤에도 별이 바람에 스치운다。\n",
            "\n",
            "\n",
            "1941. 11. 20\n"
          ]
        }
      ]
    },
    {
      "cell_type": "code",
      "source": [
        "file1.closed"
      ],
      "metadata": {
        "colab": {
          "base_uri": "https://localhost:8080/"
        },
        "id": "FuL4YVLB3dsf",
        "outputId": "56fe1f7a-6e00-4896-e07e-b27cc2d68ef3"
      },
      "execution_count": 12,
      "outputs": [
        {
          "output_type": "execute_result",
          "data": {
            "text/plain": [
              "True"
            ]
          },
          "metadata": {},
          "execution_count": 12
        }
      ]
    },
    {
      "cell_type": "code",
      "source": [
        "print(FileContent)"
      ],
      "metadata": {
        "colab": {
          "base_uri": "https://localhost:8080/"
        },
        "id": "i1069JBk3gYh",
        "outputId": "51582c4e-7c11-445a-ed8b-bec8fb1afab5"
      },
      "execution_count": 14,
      "outputs": [
        {
          "output_type": "stream",
          "name": "stdout",
          "text": [
            "\n",
            "죽는 날까지 하늘을 우르러\n",
            "한점 부끄럼이 없기를、\n",
            "잎새에 이는 바람에도\n",
            "나는 괴로워했다。\n",
            "별을 노래하는 마음으로\n",
            "모든 죽어가는것을 사랑해야지\n",
            "그리고 나안테 주어진 길을\n",
            "거러가야겠다。\n",
            "\n",
            "오늘밤에도 별이 바람에 스치운다。\n",
            "\n",
            "\n",
            "1941. 11. 20\n"
          ]
        }
      ]
    },
    {
      "cell_type": "code",
      "source": [
        "with open(example1, \"r\") as file1:\n",
        "    print(file1.read(4))"
      ],
      "metadata": {
        "colab": {
          "base_uri": "https://localhost:8080/"
        },
        "id": "AI9iPR183jmI",
        "outputId": "61a71085-c2ba-47e9-86e7-530ef629a05d"
      },
      "execution_count": 15,
      "outputs": [
        {
          "output_type": "stream",
          "name": "stdout",
          "text": [
            "\n",
            "죽는 \n"
          ]
        }
      ]
    },
    {
      "cell_type": "code",
      "source": [
        "with open(example1, \"r\") as file1:\n",
        "    print(file1.read(4))\n",
        "    print(file1.read(4))\n",
        "    print(file1.read(7))\n",
        "    print(file1.read(15))"
      ],
      "metadata": {
        "colab": {
          "base_uri": "https://localhost:8080/"
        },
        "id": "Mjweuqz13s4U",
        "outputId": "c9f0c569-7e29-48d9-bfae-ad021a2c4ce8"
      },
      "execution_count": 16,
      "outputs": [
        {
          "output_type": "stream",
          "name": "stdout",
          "text": [
            "\n",
            "죽는 \n",
            "날까지 \n",
            "하늘을 우르러\n",
            "\n",
            "한점 부끄럼이 없기를、\n",
            "잎\n"
          ]
        }
      ]
    },
    {
      "cell_type": "code",
      "source": [
        "with open(example1, \"r\") as file1:\n",
        "    print(file1.read(16))\n",
        "    print(file1.read(5))\n",
        "    print(file1.read(9))"
      ],
      "metadata": {
        "colab": {
          "base_uri": "https://localhost:8080/"
        },
        "id": "NpWmuWQ83vRg",
        "outputId": "ae7e820d-a7c1-44ab-b391-6b5754e72704"
      },
      "execution_count": 17,
      "outputs": [
        {
          "output_type": "stream",
          "name": "stdout",
          "text": [
            "\n",
            "죽는 날까지 하늘을 우르러\n",
            "\n",
            "한점 부끄\n",
            "럼이 없기를、\n",
            "잎\n"
          ]
        }
      ]
    },
    {
      "cell_type": "code",
      "source": [
        "with open(example1, \"r\") as file1:\n",
        "    print(\"first line: \" + file1.readline())\n",
        "    print(\"second line: \" + file1.readline())\n",
        "    print(\"third line: \" + file1.readline())"
      ],
      "metadata": {
        "colab": {
          "base_uri": "https://localhost:8080/"
        },
        "id": "zJDRAUeI3yVD",
        "outputId": "521d247f-6ff0-4297-d1c6-0d4f05449877"
      },
      "execution_count": 18,
      "outputs": [
        {
          "output_type": "stream",
          "name": "stdout",
          "text": [
            "first line: \n",
            "\n",
            "second line: 죽는 날까지 하늘을 우르러\n",
            "\n",
            "third line: 한점 부끄럼이 없기를、\n",
            "\n"
          ]
        }
      ]
    },
    {
      "cell_type": "code",
      "source": [
        "with open(example1,\"r\") as file1:\n",
        "        i = 0;\n",
        "        for line in file1:\n",
        "            print(\"Iteration\", str(i), \": \", line)\n",
        "            i = i + 1;"
      ],
      "metadata": {
        "colab": {
          "base_uri": "https://localhost:8080/"
        },
        "id": "Ai3spbff31QF",
        "outputId": "c84bb2c3-8aff-48f2-a069-d18666d53c68"
      },
      "execution_count": 19,
      "outputs": [
        {
          "output_type": "stream",
          "name": "stdout",
          "text": [
            "Iteration 0 :  \n",
            "\n",
            "Iteration 1 :  죽는 날까지 하늘을 우르러\n",
            "\n",
            "Iteration 2 :  한점 부끄럼이 없기를、\n",
            "\n",
            "Iteration 3 :  잎새에 이는 바람에도\n",
            "\n",
            "Iteration 4 :  나는 괴로워했다。\n",
            "\n",
            "Iteration 5 :  별을 노래하는 마음으로\n",
            "\n",
            "Iteration 6 :  모든 죽어가는것을 사랑해야지\n",
            "\n",
            "Iteration 7 :  그리고 나안테 주어진 길을\n",
            "\n",
            "Iteration 8 :  거러가야겠다。\n",
            "\n",
            "Iteration 9 :  \n",
            "\n",
            "Iteration 10 :  오늘밤에도 별이 바람에 스치운다。\n",
            "\n",
            "Iteration 11 :  \n",
            "\n",
            "Iteration 12 :  \n",
            "\n",
            "Iteration 13 :  1941. 11. 20\n"
          ]
        }
      ]
    },
    {
      "cell_type": "code",
      "source": [
        "with open(example1, \"r\") as file1:\n",
        "    FileasList = file1.readlines()"
      ],
      "metadata": {
        "id": "LWtVlLGQ34s3"
      },
      "execution_count": 20,
      "outputs": []
    },
    {
      "cell_type": "code",
      "source": [
        "FileasList[0]"
      ],
      "metadata": {
        "colab": {
          "base_uri": "https://localhost:8080/",
          "height": 36
        },
        "id": "yb7raEdZ38g8",
        "outputId": "fd7cbddf-3cb9-4818-aa24-d9de4606c9fd"
      },
      "execution_count": 21,
      "outputs": [
        {
          "output_type": "execute_result",
          "data": {
            "text/plain": [
              "'\\n'"
            ],
            "application/vnd.google.colaboratory.intrinsic+json": {
              "type": "string"
            }
          },
          "metadata": {},
          "execution_count": 21
        }
      ]
    },
    {
      "cell_type": "code",
      "source": [
        "FileasList[1]"
      ],
      "metadata": {
        "colab": {
          "base_uri": "https://localhost:8080/",
          "height": 36
        },
        "id": "zjOBwe443_aL",
        "outputId": "adbb61a0-f563-4db4-9f2a-7839eeef0a7d"
      },
      "execution_count": 22,
      "outputs": [
        {
          "output_type": "execute_result",
          "data": {
            "text/plain": [
              "'죽는 날까지 하늘을 우르러\\n'"
            ],
            "application/vnd.google.colaboratory.intrinsic+json": {
              "type": "string"
            }
          },
          "metadata": {},
          "execution_count": 22
        }
      ]
    },
    {
      "cell_type": "code",
      "source": [
        "FileasList[2]"
      ],
      "metadata": {
        "colab": {
          "base_uri": "https://localhost:8080/",
          "height": 36
        },
        "id": "5tO3z3FC4ByY",
        "outputId": "27b56e17-0388-4c2f-d1ce-27f228a50ab5"
      },
      "execution_count": 23,
      "outputs": [
        {
          "output_type": "execute_result",
          "data": {
            "text/plain": [
              "'한점 부끄럼이 없기를、\\n'"
            ],
            "application/vnd.google.colaboratory.intrinsic+json": {
              "type": "string"
            }
          },
          "metadata": {},
          "execution_count": 23
        }
      ]
    },
    {
      "cell_type": "code",
      "source": [
        "FileasList[3]"
      ],
      "metadata": {
        "colab": {
          "base_uri": "https://localhost:8080/",
          "height": 36
        },
        "id": "J2JnLOjv4DIE",
        "outputId": "a37d7620-6fd6-4633-ff60-d7ef8c9f0805"
      },
      "execution_count": 24,
      "outputs": [
        {
          "output_type": "execute_result",
          "data": {
            "text/plain": [
              "'잎새에 이는 바람에도\\n'"
            ],
            "application/vnd.google.colaboratory.intrinsic+json": {
              "type": "string"
            }
          },
          "metadata": {},
          "execution_count": 24
        }
      ]
    },
    {
      "cell_type": "code",
      "source": [
        "FileasList[4]"
      ],
      "metadata": {
        "colab": {
          "base_uri": "https://localhost:8080/",
          "height": 36
        },
        "id": "lK2XWIGy4FOB",
        "outputId": "c0a879f3-cc2d-4daf-d998-afd676b365ec"
      },
      "execution_count": 25,
      "outputs": [
        {
          "output_type": "execute_result",
          "data": {
            "text/plain": [
              "'나는 괴로워했다。\\n'"
            ],
            "application/vnd.google.colaboratory.intrinsic+json": {
              "type": "string"
            }
          },
          "metadata": {},
          "execution_count": 25
        }
      ]
    },
    {
      "cell_type": "code",
      "source": [],
      "metadata": {
        "id": "OL50VHqs4G4g"
      },
      "execution_count": null,
      "outputs": []
    }
  ]
}