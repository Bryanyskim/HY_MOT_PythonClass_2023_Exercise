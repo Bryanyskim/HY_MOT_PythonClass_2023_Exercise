{
  "nbformat": 4,
  "nbformat_minor": 0,
  "metadata": {
    "colab": {
      "provenance": [],
      "authorship_tag": "ABX9TyPBmKVoj/JhB4SfXpy51XAD",
      "include_colab_link": true
    },
    "kernelspec": {
      "name": "python3",
      "display_name": "Python 3"
    },
    "language_info": {
      "name": "python"
    }
  },
  "cells": [
    {
      "cell_type": "markdown",
      "metadata": {
        "id": "view-in-github",
        "colab_type": "text"
      },
      "source": [
        "<a href=\"https://colab.research.google.com/github/Bryanyskim/HY_MOT_PythonClass_2023_Exercise/blob/main/Exercise_6_(Loops)_%EA%B9%80%EC%98%88%EC%84%B1_2022242617.ipynb\" target=\"_parent\"><img src=\"https://colab.research.google.com/assets/colab-badge.svg\" alt=\"Open In Colab\"/></a>"
      ]
    },
    {
      "cell_type": "code",
      "execution_count": null,
      "metadata": {
        "colab": {
          "base_uri": "https://localhost:8080/"
        },
        "id": "cwdhs6_TOBwj",
        "outputId": "d07e93be-4c2d-4d28-ddfb-e6b48a30650c"
      },
      "outputs": [
        {
          "output_type": "execute_result",
          "data": {
            "text/plain": [
              "range(0, 3)"
            ]
          },
          "metadata": {},
          "execution_count": 1
        }
      ],
      "source": [
        "test=range(3)\n",
        "test"
      ]
    },
    {
      "cell_type": "code",
      "source": [
        "test=range(3)\n",
        "test"
      ],
      "metadata": {
        "id": "Z6jocZa-OUfn",
        "colab": {
          "base_uri": "https://localhost:8080/"
        },
        "outputId": "86e1c4ec-0971-478b-d8bf-d2215b896c7a"
      },
      "execution_count": 1,
      "outputs": [
        {
          "output_type": "execute_result",
          "data": {
            "text/plain": [
              "range(0, 3)"
            ]
          },
          "metadata": {},
          "execution_count": 1
        }
      ]
    },
    {
      "cell_type": "code",
      "source": [
        "test[1]"
      ],
      "metadata": {
        "colab": {
          "base_uri": "https://localhost:8080/"
        },
        "id": "OAJYz6-7gieL",
        "outputId": "f901b271-db32-4352-ef8a-ed5c6c1fd9f9"
      },
      "execution_count": 4,
      "outputs": [
        {
          "output_type": "execute_result",
          "data": {
            "text/plain": [
              "1"
            ]
          },
          "metadata": {},
          "execution_count": 4
        }
      ]
    },
    {
      "cell_type": "code",
      "source": [
        "dates = [1982,1980,1973]\n",
        "N = len(dates)\n",
        "for i in range(N):\n",
        "   print(dates[i])"
      ],
      "metadata": {
        "colab": {
          "base_uri": "https://localhost:8080/"
        },
        "id": "-XJzNDi_g2Hd",
        "outputId": "be0c15ab-a9fb-49a0-9649-6b1e5d22b755"
      },
      "execution_count": 5,
      "outputs": [
        {
          "output_type": "stream",
          "name": "stdout",
          "text": [
            "1982\n",
            "1980\n",
            "1973\n"
          ]
        }
      ]
    },
    {
      "cell_type": "code",
      "source": [
        "for i in range(0,8):\n",
        "  print(\"i is equal to\", i)"
      ],
      "metadata": {
        "colab": {
          "base_uri": "https://localhost:8080/"
        },
        "id": "njeTgc8dh00D",
        "outputId": "04bfb9ea-ae3d-4423-b95c-a08f7207ce5c"
      },
      "execution_count": 7,
      "outputs": [
        {
          "output_type": "stream",
          "name": "stdout",
          "text": [
            "i is equal to 0\n",
            "i is equal to 1\n",
            "i is equal to 2\n",
            "i is equal to 3\n",
            "i is equal to 4\n",
            "i is equal to 5\n",
            "i is equal to 6\n",
            "i is equal to 7\n"
          ]
        }
      ]
    },
    {
      "cell_type": "code",
      "source": [
        "for year in dates :\n",
        "   print(year)"
      ],
      "metadata": {
        "colab": {
          "base_uri": "https://localhost:8080/"
        },
        "id": "U0jaNYTetvd2",
        "outputId": "5ab75486-a1a9-40f8-cabb-8938adf48e8d"
      },
      "execution_count": 9,
      "outputs": [
        {
          "output_type": "stream",
          "name": "stdout",
          "text": [
            "1982\n",
            "1980\n",
            "1973\n"
          ]
        }
      ]
    },
    {
      "cell_type": "code",
      "source": [
        "squares = ['red', 'yellow', 'green', 'purple', 'blue']\n",
        "\n",
        "for i in range(0,5):\n",
        "   print(\"Before square\", i, 'is', squares[i])\n",
        "   squares [i] = 'wieght'\n",
        "   print(\"After square\", i, 'is', squares[i])"
      ],
      "metadata": {
        "colab": {
          "base_uri": "https://localhost:8080/"
        },
        "id": "x0n0av_et507",
        "outputId": "fdc2d2a6-63f9-4883-bd7f-cf728a155b02"
      },
      "execution_count": 10,
      "outputs": [
        {
          "output_type": "stream",
          "name": "stdout",
          "text": [
            "Before square 0 is red\n",
            "After square 0 is wieght\n",
            "Before square 1 is yellow\n",
            "After square 1 is wieght\n",
            "Before square 2 is green\n",
            "After square 2 is wieght\n",
            "Before square 3 is purple\n",
            "After square 3 is wieght\n",
            "Before square 4 is blue\n",
            "After square 4 is wieght\n"
          ]
        }
      ]
    },
    {
      "cell_type": "code",
      "source": [
        "squares"
      ],
      "metadata": {
        "colab": {
          "base_uri": "https://localhost:8080/"
        },
        "id": "cu-iE8lwutE0",
        "outputId": "6d89fb1d-629d-4981-fad2-d44c67964edb"
      },
      "execution_count": 11,
      "outputs": [
        {
          "output_type": "execute_result",
          "data": {
            "text/plain": [
              "['wieght', 'wieght', 'wieght', 'wieght', 'wieght']"
            ]
          },
          "metadata": {},
          "execution_count": 11
        }
      ]
    },
    {
      "cell_type": "code",
      "source": [
        "squares = ['red', 'yellow', 'green', 'purple', 'blue']\n",
        "\n",
        "for i in squares:\n",
        "   print(\"Before squares is :\", i)\n",
        "for i in range(0,5):\n",
        "   squares[i] = i*\"what the heck!\"\n",
        "   print(squares[i])"
      ],
      "metadata": {
        "colab": {
          "base_uri": "https://localhost:8080/"
        },
        "id": "d69LGrwqu4rp",
        "outputId": "4f53a53f-ce2c-44d7-bb52-376720969907"
      },
      "execution_count": 12,
      "outputs": [
        {
          "output_type": "stream",
          "name": "stdout",
          "text": [
            "Before squares is : red\n",
            "Before squares is : yellow\n",
            "Before squares is : green\n",
            "Before squares is : purple\n",
            "Before squares is : blue\n",
            "\n",
            "what the heck!\n",
            "what the heck!what the heck!\n",
            "what the heck!what the heck!what the heck!\n",
            "what the heck!what the heck!what the heck!what the heck!\n"
          ]
        }
      ]
    },
    {
      "cell_type": "code",
      "source": [
        "dates = [1982,1980,1973,2000]\n",
        "i = 0\n",
        "year = 0\n",
        "\n",
        "while(year != 2000):\n",
        "  year = dates[i]\n",
        "  i = i+1\n",
        "  print(year)\n",
        "print(\"It took\", i, \"repetitions to get out of loop\")"
      ],
      "metadata": {
        "colab": {
          "base_uri": "https://localhost:8080/"
        },
        "id": "X89_p6iLvTae",
        "outputId": "6e95ad1e-80b3-4eca-d207-50d86af6937e"
      },
      "execution_count": 16,
      "outputs": [
        {
          "output_type": "stream",
          "name": "stdout",
          "text": [
            "1982\n",
            "1980\n",
            "1973\n",
            "2000\n",
            "It took 4 repetitions to get out of loop\n"
          ]
        }
      ]
    },
    {
      "cell_type": "code",
      "source": [
        "for i in range(-5,6):\n",
        "   print(i)"
      ],
      "metadata": {
        "colab": {
          "base_uri": "https://localhost:8080/"
        },
        "id": "Bi1p2COlvyRh",
        "outputId": "6acb1efa-aefa-441f-f77c-76894313d72a"
      },
      "execution_count": 17,
      "outputs": [
        {
          "output_type": "stream",
          "name": "stdout",
          "text": [
            "-5\n",
            "-4\n",
            "-3\n",
            "-2\n",
            "-1\n",
            "0\n",
            "1\n",
            "2\n",
            "3\n",
            "4\n",
            "5\n"
          ]
        }
      ]
    },
    {
      "cell_type": "code",
      "source": [
        "Genres=['rock','R&B', 'Soundtrack','R&B','soul','pop']\n",
        "for Genre in Genres:\n",
        "   print(Genre)"
      ],
      "metadata": {
        "colab": {
          "base_uri": "https://localhost:8080/"
        },
        "id": "iLCeTZNewmd_",
        "outputId": "6038ce49-638b-42ed-fc1c-9fc1aa7706cd"
      },
      "execution_count": 18,
      "outputs": [
        {
          "output_type": "stream",
          "name": "stdout",
          "text": [
            "rock\n",
            "R&B\n",
            "Soundtrack\n",
            "R&B\n",
            "soul\n",
            "pop\n"
          ]
        }
      ]
    },
    {
      "cell_type": "code",
      "source": [
        "squares=['red', 'yellow', 'green', 'purple', 'blue']\n",
        "for square in squares:\n",
        "    print (square)"
      ],
      "metadata": {
        "colab": {
          "base_uri": "https://localhost:8080/"
        },
        "id": "M7OOkwJaxIG2",
        "outputId": "ba682f47-d2f5-405f-f478-6f6bd3608526"
      },
      "execution_count": 22,
      "outputs": [
        {
          "output_type": "stream",
          "name": "stdout",
          "text": [
            "red\n",
            "yellow\n",
            "green\n",
            "purple\n",
            "blue\n"
          ]
        }
      ]
    },
    {
      "cell_type": "code",
      "source": [
        "PlayListRatings = [10, 9.5, 10, 8, 7.5, 5, 10, 10]\n",
        "i = 1\n",
        "Rating = PlayListRatings[0]\n",
        "while(Rating >=6):\n",
        "   print(Rating)\n",
        "   Rating = PlayListRatings[i]\n",
        "   i = i+1"
      ],
      "metadata": {
        "colab": {
          "base_uri": "https://localhost:8080/"
        },
        "id": "NKvDMv4dxXf1",
        "outputId": "70853fb7-99dc-4b2c-cb25-e1d6e11bb46b"
      },
      "execution_count": 23,
      "outputs": [
        {
          "output_type": "stream",
          "name": "stdout",
          "text": [
            "10\n",
            "9.5\n",
            "10\n",
            "8\n",
            "7.5\n"
          ]
        }
      ]
    },
    {
      "cell_type": "code",
      "source": [
        "squares = ['orange', 'orange', 'purple', 'blue ', 'orange']\n",
        "new_squares = []\n",
        "i = 0\n",
        "while(squares[i] == 'orange'):\n",
        "    new_squares.append(squares[i])\n",
        "    i = i + 1\n",
        "print (new_squares)"
      ],
      "metadata": {
        "colab": {
          "base_uri": "https://localhost:8080/"
        },
        "id": "konAbe2IyhHy",
        "outputId": "90477a03-9e80-4fcd-b34a-a0303d005ce9"
      },
      "execution_count": 24,
      "outputs": [
        {
          "output_type": "stream",
          "name": "stdout",
          "text": [
            "['orange', 'orange']\n"
          ]
        }
      ]
    },
    {
      "cell_type": "code",
      "source": [],
      "metadata": {
        "id": "rLYUIv90y_NI"
      },
      "execution_count": null,
      "outputs": []
    }
  ]
}