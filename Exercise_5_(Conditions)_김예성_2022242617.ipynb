{
  "nbformat": 4,
  "nbformat_minor": 0,
  "metadata": {
    "colab": {
      "provenance": [],
      "authorship_tag": "ABX9TyMbFz6T4GaUFRc5SlQC/grr",
      "include_colab_link": true
    },
    "kernelspec": {
      "name": "python3",
      "display_name": "Python 3"
    },
    "language_info": {
      "name": "python"
    }
  },
  "cells": [
    {
      "cell_type": "markdown",
      "metadata": {
        "id": "view-in-github",
        "colab_type": "text"
      },
      "source": [
        "<a href=\"https://colab.research.google.com/github/Bryanyskim/HY_MOT_PythonClass_2023_Exercise/blob/main/Exercise_5_(Conditions)_%EA%B9%80%EC%98%88%EC%84%B1_2022242617.ipynb\" target=\"_parent\"><img src=\"https://colab.research.google.com/assets/colab-badge.svg\" alt=\"Open In Colab\"/></a>"
      ]
    },
    {
      "cell_type": "code",
      "execution_count": 1,
      "metadata": {
        "colab": {
          "base_uri": "https://localhost:8080/"
        },
        "id": "3ST4NL1qB-CQ",
        "outputId": "628a2942-f5af-4f5c-ad23-c91410d9c29a"
      },
      "outputs": [
        {
          "output_type": "execute_result",
          "data": {
            "text/plain": [
              "False"
            ]
          },
          "metadata": {},
          "execution_count": 1
        }
      ],
      "source": [
        "a = 5\n",
        "a == 6"
      ]
    },
    {
      "cell_type": "code",
      "source": [
        "i = 6\n",
        "i > 7"
      ],
      "metadata": {
        "colab": {
          "base_uri": "https://localhost:8080/"
        },
        "id": "jga1a3VDDdpO",
        "outputId": "85a7f65c-b0ac-4c88-c790-2f9798bc5899"
      },
      "execution_count": 2,
      "outputs": [
        {
          "output_type": "execute_result",
          "data": {
            "text/plain": [
              "False"
            ]
          },
          "metadata": {},
          "execution_count": 2
        }
      ]
    },
    {
      "cell_type": "code",
      "source": [
        "i = 2\n",
        "i > 5"
      ],
      "metadata": {
        "colab": {
          "base_uri": "https://localhost:8080/"
        },
        "id": "vg3F4cgqDhhj",
        "outputId": "a90dcedd-182b-4f3d-9bce-31bfd5f9eb46"
      },
      "execution_count": 3,
      "outputs": [
        {
          "output_type": "execute_result",
          "data": {
            "text/plain": [
              "False"
            ]
          },
          "metadata": {},
          "execution_count": 3
        }
      ]
    },
    {
      "cell_type": "code",
      "source": [
        "i = 2\n",
        "i!= 2 #!= not equal to"
      ],
      "metadata": {
        "colab": {
          "base_uri": "https://localhost:8080/"
        },
        "id": "kNEFZuWaDmQs",
        "outputId": "a79bfe32-7d13-43ea-a2f4-af8980b2118a"
      },
      "execution_count": 6,
      "outputs": [
        {
          "output_type": "execute_result",
          "data": {
            "text/plain": [
              "False"
            ]
          },
          "metadata": {},
          "execution_count": 6
        }
      ]
    },
    {
      "cell_type": "code",
      "source": [
        "i = 6\n",
        "i!=6"
      ],
      "metadata": {
        "colab": {
          "base_uri": "https://localhost:8080/"
        },
        "id": "R1ix21GEDra3",
        "outputId": "e47a6c05-25ea-479a-8474-45bba04bd320"
      },
      "execution_count": 7,
      "outputs": [
        {
          "output_type": "execute_result",
          "data": {
            "text/plain": [
              "False"
            ]
          },
          "metadata": {},
          "execution_count": 7
        }
      ]
    },
    {
      "cell_type": "code",
      "source": [
        "\"ACDC\"!= \"Micheal Jackson\""
      ],
      "metadata": {
        "colab": {
          "base_uri": "https://localhost:8080/"
        },
        "id": "YitYgiDVD6y1",
        "outputId": "1d58239c-8d70-4905-e52a-bf1fcec96385"
      },
      "execution_count": 8,
      "outputs": [
        {
          "output_type": "execute_result",
          "data": {
            "text/plain": [
              "True"
            ]
          },
          "metadata": {},
          "execution_count": 8
        }
      ]
    },
    {
      "cell_type": "code",
      "source": [
        "age = 17\n",
        "if age > 18:\n",
        "   print (\"you can enter\")\n",
        "else:\n",
        "   print(\"Prohibited\")\n",
        "   print(\"okay\")"
      ],
      "metadata": {
        "colab": {
          "base_uri": "https://localhost:8080/"
        },
        "id": "fTxisVs2Eww_",
        "outputId": "3c4fde95-b2e7-40ca-ad9d-967838079030"
      },
      "execution_count": 9,
      "outputs": [
        {
          "output_type": "stream",
          "name": "stdout",
          "text": [
            "Prohibited\n",
            "okay\n"
          ]
        }
      ]
    },
    {
      "cell_type": "code",
      "source": [
        "age = 18\n",
        "if age > 18:\n",
        "   print(\"you can enter\")\n",
        "else:\n",
        "   print(\"go see Meat Loaf\")\n",
        "\n",
        "print(\"move on\")"
      ],
      "metadata": {
        "colab": {
          "base_uri": "https://localhost:8080/"
        },
        "id": "XI4HFP7CFQqT",
        "outputId": "f9865504-b883-4815-e28e-209c4b4ce308"
      },
      "execution_count": 10,
      "outputs": [
        {
          "output_type": "stream",
          "name": "stdout",
          "text": [
            "go see Meat Loaf\n",
            "move on\n"
          ]
        }
      ]
    },
    {
      "cell_type": "code",
      "source": [
        "age = 17\n",
        "\n",
        "if age > 18:\n",
        "   print(\"you can enter\")\n",
        "elif age == 18:\n",
        "   print(\"go see Pink Floyd\")\n",
        "elif age == 0:\n",
        "   print(\"this kid cannot leave home\")\n",
        "else:\n",
        "   print(\"go see Meat Loaf\")"
      ],
      "metadata": {
        "colab": {
          "base_uri": "https://localhost:8080/"
        },
        "id": "g8asK5-3GLdr",
        "outputId": "52568cfd-cef8-4da1-9064-c5deb4509357"
      },
      "execution_count": 11,
      "outputs": [
        {
          "output_type": "stream",
          "name": "stdout",
          "text": [
            "go see Meat Loaf\n"
          ]
        }
      ]
    },
    {
      "cell_type": "code",
      "source": [
        "album_year = 1983\n",
        "\n",
        "if album_year > 1980:\n",
        "  print( \"Album year is greater than 1980\")\n",
        "else:\n",
        "   print(\"less than 1980\")\n",
        "\n",
        "print('do something')"
      ],
      "metadata": {
        "colab": {
          "base_uri": "https://localhost:8080/"
        },
        "id": "qjwvj0ZpGs2a",
        "outputId": "e99e7c18-6966-4f50-db68-12ccb02a05bf"
      },
      "execution_count": 12,
      "outputs": [
        {
          "output_type": "stream",
          "name": "stdout",
          "text": [
            "Album year is greater than 1980\n",
            "do something\n"
          ]
        }
      ]
    },
    {
      "cell_type": "code",
      "source": [
        "album_year = 1991\n",
        "\n",
        "if(album_year > 1979) and (album_year < 1990):\n",
        "   print (\"Album year was in between 1980 and 1989\")\n",
        "else:\n",
        "   print(\"this is not the case\")"
      ],
      "metadata": {
        "colab": {
          "base_uri": "https://localhost:8080/"
        },
        "id": "q1QDwZ11Hh2x",
        "outputId": "1a8c2a76-f49e-46c6-df98-a6aa43df8dc0"
      },
      "execution_count": 13,
      "outputs": [
        {
          "output_type": "stream",
          "name": "stdout",
          "text": [
            "this is not the case\n"
          ]
        }
      ]
    },
    {
      "cell_type": "code",
      "source": [
        "album_year = 1983\n",
        "\n",
        "if not (album_year == \"1984\"):\n",
        "    print(\"Album year is not 1984\")"
      ],
      "metadata": {
        "colab": {
          "base_uri": "https://localhost:8080/"
        },
        "id": "3yXx7w2FJfjn",
        "outputId": "3fcb46ca-d5b9-4240-c70f-10d53bd55b93"
      },
      "execution_count": 14,
      "outputs": [
        {
          "output_type": "stream",
          "name": "stdout",
          "text": [
            "Album year is not 1984\n"
          ]
        }
      ]
    },
    {
      "cell_type": "code",
      "source": [
        "album_rating = 8.5\n",
        "if album_rating > 8:\n",
        "   print(\"This album is Amazing\")"
      ],
      "metadata": {
        "colab": {
          "base_uri": "https://localhost:8080/"
        },
        "id": "7ueqMKY7Jzz6",
        "outputId": "dc06eb32-2d04-494a-b42b-12b597687be2"
      },
      "execution_count": 15,
      "outputs": [
        {
          "output_type": "stream",
          "name": "stdout",
          "text": [
            "This album is Amazing\n"
          ]
        }
      ]
    },
    {
      "cell_type": "code",
      "source": [
        "album_rating = 8.5\n",
        "if album_rating > 8:\n",
        "   print (\"this album is amazing\")\n",
        "else:\n",
        " print(\"this album is ok\")"
      ],
      "metadata": {
        "colab": {
          "base_uri": "https://localhost:8080/"
        },
        "id": "c__9Sy3zKa-b",
        "outputId": "96b7c0e5-728c-478b-b40b-e1ec4eba5e19"
      },
      "execution_count": 17,
      "outputs": [
        {
          "output_type": "stream",
          "name": "stdout",
          "text": [
            "this album is amazing\n"
          ]
        }
      ]
    },
    {
      "cell_type": "code",
      "source": [
        "album_year = 1979\n",
        "if album_year < 1980 or album_year ==1991 or album_year == 1993:\n",
        "   print(\"this album came out already\")"
      ],
      "metadata": {
        "colab": {
          "base_uri": "https://localhost:8080/"
        },
        "id": "_dl-gM2LK6VJ",
        "outputId": "5666895e-0ab5-4f81-9efa-cbfc701d7953"
      },
      "execution_count": 21,
      "outputs": [
        {
          "output_type": "stream",
          "name": "stdout",
          "text": [
            "this album came out already\n"
          ]
        }
      ]
    },
    {
      "cell_type": "code",
      "source": [],
      "metadata": {
        "id": "2-2b-a4UMGQn"
      },
      "execution_count": null,
      "outputs": []
    }
  ]
}